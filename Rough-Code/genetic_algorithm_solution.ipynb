{
    "cells": [
        {
            "cell_type": "code",
            "metadata": {
                "lines_to_next_cell": 2,
                "cell_id": "2d9488dcd6574d048f2fc1b8e7ac3d68",
                "deepnote_cell_type": "code"
            },
            "source": "from ioh import get_problem, ProblemClass\nfrom ioh import logger\nimport sys\nimport numpy as np\nimport time",
            "block_group": "ae539a223a7946768f0f741607537167",
            "execution_count": null,
            "outputs": [],
            "outputs_reference": null,
            "content_dependencies": null
        },
        {
            "cell_type": "code",
            "metadata": {
                "cell_id": "12c14b590e6242a985f416999620ff6d",
                "deepnote_cell_type": "code"
            },
            "source": "# Declaration of problems to be tested.\n# We obtain an interface of the OneMax problem here.\n# om(x) return the fitness value of 'x'\ndimension = 50\nom = get_problem(1, dimension=dimension, instance=1, problem_class=ProblemClass.PBO)\n# We know the optimum of onemax\noptimum = dimension",
            "block_group": "a7e9b18e1bb9474184c7f2abdb68b02a",
            "execution_count": null,
            "outputs": [],
            "outputs_reference": null,
            "content_dependencies": null
        },
        {
            "cell_type": "code",
            "metadata": {
                "cell_id": "7d0461c1c6f041f28f6e8376956514eb",
                "deepnote_cell_type": "code"
            },
            "source": "# Create default logger compatible with IOHanalyzer\n# `root` indicates where the output files are stored.\n# `folder_name` is the name of the folder containing all output. You should compress the folder 'run' and upload it to IOHanalyzer.\nl = logger.Analyzer(root=\"data\", \n    folder_name=\"run\", \n    algorithm_name=\"genetic_algorithm\", \n    algorithm_info=\"The lab session of the evolutionary algorithm course in LIACS\")",
            "block_group": "2359f06327b643bca1c126824307ab1a",
            "execution_count": null,
            "outputs": [],
            "outputs_reference": null,
            "content_dependencies": null
        },
        {
            "cell_type": "code",
            "metadata": {
                "lines_to_next_cell": 2,
                "cell_id": "afb06ecd465443fa8a92fa8f6bbacf7f",
                "deepnote_cell_type": "code"
            },
            "source": "om.attach_logger(l)",
            "block_group": "3f04796c18e94516971d0b7ea9a74a2a",
            "execution_count": null,
            "outputs": [],
            "outputs_reference": null,
            "content_dependencies": null
        },
        {
            "cell_type": "code",
            "metadata": {
                "cell_id": "ecb7ecc5b50c4728ac5a7bd9d838a9a9",
                "deepnote_cell_type": "code"
            },
            "source": "# Parameters setting\npop_size = 3\ntournament_k = 10\nmutation_rate = 0.02\ncrossover_probability = 0.5",
            "block_group": "3f4e819c31b24a4c9482a0523c9177ce",
            "execution_count": null,
            "outputs": [],
            "outputs_reference": null,
            "content_dependencies": null
        },
        {
            "cell_type": "code",
            "metadata": {
                "lines_to_next_cell": 1,
                "cell_id": "d7e0bd4f19f545368886f9b690505dfe",
                "deepnote_cell_type": "code"
            },
            "source": "# Uniform Crossover\ndef crossover(p1, p2):\n   if(np.random.uniform(0,1) < crossover_probability):\n        for i in range(len(p1)) :\n            if np.random.uniform(0,1) < 0.5:\n                t = p1[i]\n                p1[i] = p2[i]\n                p2[i] = t",
            "block_group": "18c69c4105ea41dfb060a4a3de3be412",
            "execution_count": null,
            "outputs": [],
            "outputs_reference": null,
            "content_dependencies": null
        },
        {
            "cell_type": "code",
            "metadata": {
                "cell_id": "cac2e65fd05143038987ec43d9c08d79",
                "deepnote_cell_type": "code"
            },
            "source": "# Standard bit mutation using mutation rate p\ndef mutation(p):\n    for i in range(len(p)) :\n        if np.random.uniform(0,1) < mutation_rate:\n            p[i] = 1 - p[i]",
            "block_group": "f82032460dfb4ad697496a59e3611294",
            "execution_count": null,
            "outputs": [],
            "outputs_reference": null,
            "content_dependencies": null
        },
        {
            "cell_type": "code",
            "metadata": {
                "lines_to_next_cell": 1,
                "cell_id": "fa6a21ca8a004c70b77a260f946ccfc2",
                "deepnote_cell_type": "code"
            },
            "source": "def mating_seletion(parent, parent_f):\n    # Using the tournament selection\n    # select_parent = []\n    # for i in range(len(parent)) :\n    #     pre_select = np.random.choice(len(parent_f),tournament_k,replace = False)\n    #     max_f = sys.float_info.min\n    #     for p in pre_select:\n    #         if parent_f[p] > max_f:\n    #             index = p\n    #             max_f = parent_f[p]\n    #     select_parent.append(parent[index].copy())\n    # return select_parent\n\n    # Using the proportional selection\n\n    # Plusing 0.001 to avoid dividing 0\n    f_min = min(parent_f)\n    f_sum = sum(parent_f) - (f_min - 0.001) * len(parent_f)\n    \n    rw = [(parent_f[0] - f_min + 0.001)/f_sum]\n    for i in range(1,len(parent_f)):\n        rw.append(rw[i-1] + (parent_f[i] - f_min + 0.001) / f_sum)\n    \n    select_parent = []\n    for i in range(len(parent)) :\n        r = np.random.uniform(0,1)\n        index = 0\n        # print(rw,r)\n        while(r > rw[index]) :\n            index = index + 1\n        \n        select_parent.append(parent[index].copy())\n    return select_parent",
            "block_group": "d138bc28c52547449e2a26f779e87d10",
            "execution_count": null,
            "outputs": [],
            "outputs_reference": null,
            "content_dependencies": null
        },
        {
            "cell_type": "code",
            "metadata": {
                "lines_to_next_cell": 1,
                "cell_id": "ccf5ee232aca45528b7650637fa75196",
                "deepnote_cell_type": "code"
            },
            "source": "def genetic_algorithm(func, budget = None):\n    \n    # budget of each run: 10000\n    if budget is None:\n        budget = 10000\n    \n    f_opt = sys.float_info.min\n    x_opt = None\n    \n    parent = []\n    parent_f = []\n    for i in range(pop_size):\n\n        # Initialization\n        parent.append(np.random.randint(2, size = func.meta_data.n_variables))\n        parent_f.append(func(parent[i]))\n        budget = budget - 1\n\n    while (f_opt < optimum and budget > 0):\n            \n        offspring = mating_seletion(parent,parent_f)\n\n        for i in range(0,pop_size - (pop_size%2),2) :\n            crossover(offspring[i], offspring[i+1])\n\n\n        for i in range(pop_size):\n            mutation(offspring[i])\n\n        parent = offspring.copy()\n        for i in range(pop_size) : \n            parent_f[i] = func(parent[i])\n            budget = budget - 1\n            if parent_f[i] > f_opt:\n                    f_opt = parent_f[i]\n                    x_opt = parent[i].copy()\n            if f_opt >= optimum:\n                break\n        \n    # ioh function, to reset the recording status of the function.\n    func.reset()\n    print(f_opt,x_opt)\n    return f_opt, x_opt",
            "block_group": "94735795b688402c8429675c4c4624aa",
            "execution_count": null,
            "outputs": [],
            "outputs_reference": null,
            "content_dependencies": null
        },
        {
            "cell_type": "code",
            "metadata": {
                "lines_to_next_cell": 1,
                "cell_id": "a6e3614e3c7b42bd8395f45eb70a8393",
                "deepnote_cell_type": "code"
            },
            "source": "def main():\n    # We run the algorithm 20 independent times.\n    for _ in range(20):\n        genetic_algorithm(om)",
            "block_group": "974daa8eb40449f4aeb3e51cf0a1d792",
            "execution_count": null,
            "outputs": [],
            "outputs_reference": null,
            "content_dependencies": null
        },
        {
            "cell_type": "code",
            "metadata": {
                "cell_id": "79dcbd8753c94db8b6307157f4fb2842",
                "deepnote_cell_type": "code"
            },
            "source": "if __name__ == '__main__':\n  start = time.time()\n  main()\n  end = time.time()\n  print(\"The program takes %s seconds\" % (end-start))",
            "block_group": "7bfde003456c44ecb383888b56418cf4",
            "execution_count": null,
            "outputs": [],
            "outputs_reference": null,
            "content_dependencies": null
        },
        {
            "cell_type": "code",
            "metadata": {
                "cell_id": "d04a5242fd9841fc9000d113dd5f09ca",
                "deepnote_cell_type": "code"
            },
            "source": "",
            "block_group": "848da64618b64d14a314cd818e2dd9d5",
            "execution_count": null,
            "outputs": [],
            "outputs_reference": null,
            "content_dependencies": null
        },
        {
            "cell_type": "markdown",
            "source": "<a style='text-decoration:none;line-height:16px;display:flex;color:#5B5B62;padding:10px;justify-content:end;' href='https://deepnote.com?utm_source=created-in-deepnote-cell&projectId=39a91287-2189-48c9-99b5-0dfcdbf377a7' target=\"_blank\">\n<img alt='Created in deepnote.com' style='display:inline;max-height:16px;margin:0px;margin-right:7.5px;' src='data:image/svg+xml;base64,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' > </img>\nCreated in <span style='font-weight:600;margin-left:4px;'>Deepnote</span></a>",
            "metadata": {
                "created_in_deepnote_cell": true,
                "deepnote_cell_type": "markdown"
            }
        }
    ],
    "nbformat": 4,
    "nbformat_minor": 0,
    "metadata": {
        "deepnote_notebook_id": "cfd6bf4b8a4c42cda0dc484f716b09ee"
    }
}