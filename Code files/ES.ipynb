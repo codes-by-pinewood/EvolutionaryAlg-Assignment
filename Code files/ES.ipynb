{
 "cells": [
  {
   "cell_type": "code",
   "execution_count": 1,
   "metadata": {},
   "outputs": [],
   "source": [
    "import numpy as np\n",
    "# you need to install this package `ioh`. Please see documentations here: \n",
    "# https://iohprofiler.github.io/IOHexp/ and\n",
    "# https://pypi.org/project/ioh/\n",
    "from ioh import get_problem, logger, ProblemClass"
   ]
  },
  {
   "cell_type": "code",
   "execution_count": 2,
   "metadata": {},
   "outputs": [],
   "source": [
    "budget = 50000\n",
    "dimension = 10\n",
    "\n",
    "# To make your results reproducible (not required by the assignment), you could set the random seed by\n",
    "# `np.random.seed(some integer, e.g., 42)`"
   ]
  },
  {
   "cell_type": "code",
   "execution_count": null,
   "metadata": {},
   "outputs": [],
   "source": [
    "def intermediate_recombination(p1, p2, crossover_rate=0.5):\n",
    "        if np.random.rand() < crossover_rate:\n",
    "                return p1, p2\n",
    "        else:\n",
    "                child = np.sum([p1, p2]) / 2\n",
    "                \n",
    "        return child"
   ]
  },
  {
   "cell_type": "code",
   "execution_count": null,
   "metadata": {},
   "outputs": [],
   "source": [
    "def self_adaptive_mutation(c1, mutation_rate=0.1):\n",
    "        child_size = c1.size\n",
    "        if np.random.rand() < mutation_rate:\n",
    "                mutated_child = [i*c1[i] for i in range(child_size)]"
   ]
  },
  {
   "cell_type": "code",
   "execution_count": null,
   "metadata": {},
   "outputs": [],
   "source": [
    "def self_adaptive_mutation(c1, mutation_rate=0.1):\n",
    "        child_size = c1.size\n",
    "        if np.random.rand() < mutation_rate:\n",
    "                mutated_child = [i*c1[i] for i in range(child_size)]\n",
    "\n",
    "        return mutated_child"
   ]
  },
  {
   "cell_type": "code",
   "execution_count": 5,
   "metadata": {},
   "outputs": [],
   "source": [
    "def studentnumber1_studentnumber2_ES(problem):\n",
    "    # hint: F18 and F19 are Boolean problems. Consider how to present bitstrings as real-valued vectors in ES\n",
    "    # initial_pop = ... make sure you randomly create the first population\n",
    "\n",
    "    # `problem.state.evaluations` counts the number of function evaluation automatically,\n",
    "    # which is incremented by 1 whenever you call `problem(x)`.\n",
    "    # You could also maintain a counter of function evaluations if you prefer.\n",
    "    while problem.state.evaluations < budget:\n",
    "        # please implement the mutation, crossover, selection here\n",
    "        # .....\n",
    "        # this is how you evaluate one solution `x`\n",
    "        parents = mating_selection(population, problem)\n",
    "        p1 = parents[0]\n",
    "        p2 = parents[1]\n",
    "        child = intermediate_recombination(p1, p2)\n",
    "        mutated_child = self_adaptive_mutation(child)\n",
    "        f = problem(mutated_child) # no return value needed "
   ]
  },
  {
   "cell_type": "code",
   "execution_count": null,
   "metadata": {},
   "outputs": [],
   "source": [
    "def create_problem(fid: int):\n",
    "    # Declaration of problems to be tested.\n",
    "    problem = get_problem(fid, dimension=dimension, instance=1, problem_class=ProblemClass.BBOB)\n",
    "\n",
    "    # Create default logger compatible with IOHanalyzer\n",
    "    # `root` indicates where the output files are stored.\n",
    "    # `folder_name` is the name of the folder containing all output. You should compress the folder 'run' and upload it to IOHanalyzer.\n",
    "    l = logger.Analyzer(\n",
    "        root=\"data\",  # the working directory in which a folder named `folder_name` (the next argument) will be created to store data\n",
    "        folder_name=\"run\",  # the folder name to which the raw performance data will be stored\n",
    "        algorithm_name=\"evolution strategy\",  # name of your algorithm\n",
    "        algorithm_info=\"Practical assignment part2 of the EA course\",\n",
    "    )\n",
    "    # attach the logger to the problem\n",
    "    problem.attach_logger(l)\n",
    "    return problem, l\n"
   ]
  },
  {
   "cell_type": "code",
   "execution_count": null,
   "metadata": {},
   "outputs": [],
   "source": [
    "if __name__ == \"__main__\":\n",
    "    # this how you run your algorithm with 20 repetitions/independent run\n",
    "    F23, _logger = create_problem(23)\n",
    "    for run in range(20): \n",
    "        studentnumber1_studentnumber2_ES(F23)\n",
    "        F23.reset() # it is necessary to reset the problem after each independent run\n",
    "    _logger.close() # after all runs, it is necessary to close the logger to make sure all data are written to the folder\n"
   ]
  }
 ],
 "metadata": {
  "kernelspec": {
   "display_name": "final_tensor_env",
   "language": "python",
   "name": "python3"
  },
  "language_info": {
   "codemirror_mode": {
    "name": "ipython",
    "version": 3
   },
   "file_extension": ".py",
   "mimetype": "text/x-python",
   "name": "python",
   "nbconvert_exporter": "python",
   "pygments_lexer": "ipython3",
   "version": "3.11.10"
  }
 },
 "nbformat": 4,
 "nbformat_minor": 2
}
