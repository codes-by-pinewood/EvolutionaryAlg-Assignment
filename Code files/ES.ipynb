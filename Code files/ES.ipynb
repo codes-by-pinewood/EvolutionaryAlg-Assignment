{
 "cells": [
  {
   "cell_type": "markdown",
   "metadata": {},
   "source": [
    "# Importing libraries"
   ]
  },
  {
   "cell_type": "code",
   "execution_count": 1,
   "metadata": {},
   "outputs": [],
   "source": [
    "import numpy as np\n",
    "\n",
    "import ioh\n",
    "from ioh import get_problem, logger, ProblemClass\n",
    "from es_modules import ES_Modules\n",
    "# import ES_Modules\n",
    "\n",
    "# es_module = ES_Modules.ES_Modules()\n",
    "from typing import List"
   ]
  },
  {
   "cell_type": "markdown",
   "metadata": {},
   "source": [
    "# Setting Budget and Dimensions"
   ]
  },
  {
   "cell_type": "code",
   "execution_count": 2,
   "metadata": {},
   "outputs": [],
   "source": [
    "budget = 50000\n",
    "dimension = 10"
   ]
  },
  {
   "cell_type": "code",
   "execution_count": 3,
   "metadata": {},
   "outputs": [],
   "source": [
    "def create_problem(dimension:int, fid: int):\n",
    "    problem = get_problem(fid, dimension=dimension, instance=1, problem_class=ProblemClass.BBOB)\n",
    "\n",
    "    l = logger.Analyzer(\n",
    "        root=\"data\", \n",
    "        folder_name=\"run\",\n",
    "        algorithm_name=\"evolution strategy\", \n",
    "        algorithm_info=\"Practical assignment part2 of the EA course\",\n",
    "    )\n",
    "    problem.attach_logger(l)\n",
    "    return problem, l\n"
   ]
  },
  {
   "cell_type": "markdown",
   "metadata": {},
   "source": [
    "# ES Algorithm"
   ]
  },
  {
   "cell_type": "code",
   "execution_count": 4,
   "metadata": {},
   "outputs": [],
   "source": [
    "def s4018907_s4168216_ES(problem: ioh.problem.BBOB, pop_size: int, mutation_rate: float, crossover_rate: float, budget: int) -> None:\n",
    "    # es_module = ES_Modules()\n",
    "    population, pop_fitness = es_module.set_population(problem, pop_size)\n",
    "\n",
    "\n",
    "    while problem.state.evaluations < budget:\n",
    "        children = ES_Modules.intermediate_recombination(population, crossover_rate)\n",
    "        mutated_children = ES_Modules.mutation(children, mutation_rate)\n",
    "        mutated_fitness = [(problem(child), child) for child in mutated_children]  # Evaluate all mutated children and store as tuple (fitness, individual)\n",
    "        pop_fitness.extend(mutated_fitness)\n",
    "        pop_fitness.sort(key=lambda x: x[0])\n",
    "        pop_fitness = pop_fitness[:pop_size]\n",
    "        population = np.array([ind[1] for ind in pop_fitness])  # Update population to best individuals\n",
    "        best_solution = pop_fitness[0]  # Best solution is the first one due to sorting\n",
    "    return best_solution[0]"
   ]
  },
  {
   "cell_type": "markdown",
   "metadata": {},
   "source": [
    "# Tuning Hyperparameters"
   ]
  },
  {
   "cell_type": "code",
   "execution_count": 5,
   "metadata": {},
   "outputs": [],
   "source": [
    "hyperparameter_space = {\n",
    "    \"population_size\": [10, 20, 50],\n",
    "    \"mutation_rate\": [0.01, 0.05, 0.1],\n",
    "    \"crossover_rate\": [0.5, 0.7, 0.9]\n",
    "}"
   ]
  },
  {
   "cell_type": "code",
   "execution_count": 6,
   "metadata": {},
   "outputs": [],
   "source": [
    "# Hyperparameter tuning function\n",
    "def tune_hyperparameters() -> List:\n",
    "    # You should decide/engineer the `score` youself, which is the tuning objective\n",
    "    best_score = float('-inf')\n",
    "    print(\"Running the problem\")\n",
    "    best_params = None\n",
    "\n",
    "    # create the Katsuura problem and the data logger\n",
    "    F23, _logger23 = create_problem(dimension=10, fid=23)\n",
    "    \n",
    "    for pop_size in hyperparameter_space['population_size']:\n",
    "        for mutation_rate in hyperparameter_space['mutation_rate']:\n",
    "            for crossover_rate in hyperparameter_space['crossover_rate']:\n",
    "                score_f23 = s4018907_s4168216_ES(F23, pop_size, mutation_rate, crossover_rate, budget)\n",
    "                if score_f23[0] > best_score:\n",
    "                    best_score = score_f23\n",
    "                    print(\"best score for F23: \", best_score)\n",
    "                    best_params = [pop_size, mutation_rate, crossover_rate]\n",
    "    return best_params"
   ]
  },
  {
   "cell_type": "code",
   "execution_count": 7,
   "metadata": {},
   "outputs": [
    {
     "name": "stdout",
     "output_type": "stream",
     "text": [
      "Running the problem\n"
     ]
    },
    {
     "ename": "NameError",
     "evalue": "name 'es_module' is not defined",
     "output_type": "error",
     "traceback": [
      "\u001b[1;31m---------------------------------------------------------------------------\u001b[0m",
      "\u001b[1;31mNameError\u001b[0m                                 Traceback (most recent call last)",
      "Cell \u001b[1;32mIn[7], line 3\u001b[0m\n\u001b[0;32m      1\u001b[0m \u001b[38;5;28;01mif\u001b[39;00m \u001b[38;5;18m__name__\u001b[39m \u001b[38;5;241m==\u001b[39m \u001b[38;5;124m\"\u001b[39m\u001b[38;5;124m__main__\u001b[39m\u001b[38;5;124m\"\u001b[39m:\n\u001b[0;32m      2\u001b[0m     \u001b[38;5;66;03m# Hyperparameter tuning to determine the best parameters for both problems\u001b[39;00m\n\u001b[1;32m----> 3\u001b[0m     tuning_results \u001b[38;5;241m=\u001b[39m \u001b[43mtune_hyperparameters\u001b[49m\u001b[43m(\u001b[49m\u001b[43m)\u001b[49m\n\u001b[0;32m      5\u001b[0m     \u001b[38;5;28;01mif\u001b[39;00m tuning_results \u001b[38;5;129;01mis\u001b[39;00m \u001b[38;5;129;01mnot\u001b[39;00m \u001b[38;5;28;01mNone\u001b[39;00m:\n\u001b[0;32m      6\u001b[0m         \u001b[38;5;66;03m# Corrected unpacking of tuning_results to ensure no TypeError for non-subscriptable types\u001b[39;00m\n\u001b[0;32m      7\u001b[0m         \u001b[38;5;28;01mif\u001b[39;00m \u001b[38;5;28misinstance\u001b[39m(tuning_results, \u001b[38;5;28mlist\u001b[39m) \u001b[38;5;129;01mand\u001b[39;00m \u001b[38;5;28mlen\u001b[39m(tuning_results) \u001b[38;5;241m==\u001b[39m \u001b[38;5;241m3\u001b[39m:\n",
      "Cell \u001b[1;32mIn[6], line 14\u001b[0m, in \u001b[0;36mtune_hyperparameters\u001b[1;34m()\u001b[0m\n\u001b[0;32m     12\u001b[0m \u001b[38;5;28;01mfor\u001b[39;00m mutation_rate \u001b[38;5;129;01min\u001b[39;00m hyperparameter_space[\u001b[38;5;124m'\u001b[39m\u001b[38;5;124mmutation_rate\u001b[39m\u001b[38;5;124m'\u001b[39m]:\n\u001b[0;32m     13\u001b[0m     \u001b[38;5;28;01mfor\u001b[39;00m crossover_rate \u001b[38;5;129;01min\u001b[39;00m hyperparameter_space[\u001b[38;5;124m'\u001b[39m\u001b[38;5;124mcrossover_rate\u001b[39m\u001b[38;5;124m'\u001b[39m]:\n\u001b[1;32m---> 14\u001b[0m         score_f23 \u001b[38;5;241m=\u001b[39m \u001b[43ms4018907_s4168216_ES\u001b[49m\u001b[43m(\u001b[49m\u001b[43mF23\u001b[49m\u001b[43m,\u001b[49m\u001b[43m \u001b[49m\u001b[43mpop_size\u001b[49m\u001b[43m,\u001b[49m\u001b[43m \u001b[49m\u001b[43mmutation_rate\u001b[49m\u001b[43m,\u001b[49m\u001b[43m \u001b[49m\u001b[43mcrossover_rate\u001b[49m\u001b[43m,\u001b[49m\u001b[43m \u001b[49m\u001b[43mbudget\u001b[49m\u001b[43m)\u001b[49m\n\u001b[0;32m     15\u001b[0m         \u001b[38;5;28;01mif\u001b[39;00m score_f23[\u001b[38;5;241m0\u001b[39m] \u001b[38;5;241m>\u001b[39m best_score:\n\u001b[0;32m     16\u001b[0m             best_score \u001b[38;5;241m=\u001b[39m score_f23\n",
      "Cell \u001b[1;32mIn[4], line 3\u001b[0m, in \u001b[0;36ms4018907_s4168216_ES\u001b[1;34m(problem, pop_size, mutation_rate, crossover_rate, budget)\u001b[0m\n\u001b[0;32m      1\u001b[0m \u001b[38;5;28;01mdef\u001b[39;00m \u001b[38;5;21ms4018907_s4168216_ES\u001b[39m(problem: ioh\u001b[38;5;241m.\u001b[39mproblem\u001b[38;5;241m.\u001b[39mBBOB, pop_size: \u001b[38;5;28mint\u001b[39m, mutation_rate: \u001b[38;5;28mfloat\u001b[39m, crossover_rate: \u001b[38;5;28mfloat\u001b[39m, budget: \u001b[38;5;28mint\u001b[39m) \u001b[38;5;241m-\u001b[39m\u001b[38;5;241m>\u001b[39m \u001b[38;5;28;01mNone\u001b[39;00m:\n\u001b[0;32m      2\u001b[0m     \u001b[38;5;66;03m# es_module = ES_Modules()\u001b[39;00m\n\u001b[1;32m----> 3\u001b[0m     population, pop_fitness \u001b[38;5;241m=\u001b[39m \u001b[43mes_module\u001b[49m\u001b[38;5;241m.\u001b[39mset_population(problem, pop_size)\n\u001b[0;32m      6\u001b[0m     \u001b[38;5;28;01mwhile\u001b[39;00m problem\u001b[38;5;241m.\u001b[39mstate\u001b[38;5;241m.\u001b[39mevaluations \u001b[38;5;241m<\u001b[39m budget:\n\u001b[0;32m      7\u001b[0m         children \u001b[38;5;241m=\u001b[39m ES_Modules\u001b[38;5;241m.\u001b[39mintermediate_recombination(population, crossover_rate)\n",
      "\u001b[1;31mNameError\u001b[0m: name 'es_module' is not defined"
     ]
    }
   ],
   "source": [
    "if __name__ == \"__main__\":\n",
    "    # Hyperparameter tuning to determine the best parameters for both problems\n",
    "    tuning_results = tune_hyperparameters()\n",
    "\n",
    "    if tuning_results is not None:\n",
    "        # Corrected unpacking of tuning_results to ensure no TypeError for non-subscriptable types\n",
    "        if isinstance(tuning_results, list) and len(tuning_results) == 3:\n",
    "            population_size, mutation_rate, crossover_rate = tuning_results[0], tuning_results[1], tuning_results[2]\n",
    "            print(population_size)\n",
    "            print(mutation_rate)\n",
    "            print(crossover_rate)\n",
    "        else:\n",
    "            print(\"Unexpected format of tuning results:\", tuning_results)\n",
    "    else:\n",
    "        print(\"No optimal parameters could be determined.\")"
   ]
  },
  {
   "cell_type": "code",
   "execution_count": 8,
   "metadata": {},
   "outputs": [
    {
     "ename": "NameError",
     "evalue": "name 'dimension' is not defined",
     "output_type": "error",
     "traceback": [
      "\u001b[1;31m---------------------------------------------------------------------------\u001b[0m",
      "\u001b[1;31mNameError\u001b[0m                                 Traceback (most recent call last)",
      "Cell \u001b[1;32mIn[8], line 3\u001b[0m\n\u001b[0;32m      1\u001b[0m \u001b[38;5;28;01mif\u001b[39;00m \u001b[38;5;18m__name__\u001b[39m \u001b[38;5;241m==\u001b[39m \u001b[38;5;124m\"\u001b[39m\u001b[38;5;124m__main__\u001b[39m\u001b[38;5;124m\"\u001b[39m:\n\u001b[0;32m      2\u001b[0m     \u001b[38;5;66;03m# this how you run your algorithm with 20 repetitions/independent run\u001b[39;00m\n\u001b[1;32m----> 3\u001b[0m     F23, _logger \u001b[38;5;241m=\u001b[39m \u001b[43mcreate_problem\u001b[49m\u001b[43m(\u001b[49m\u001b[38;5;241;43m23\u001b[39;49m\u001b[43m)\u001b[49m\n\u001b[0;32m      4\u001b[0m     \u001b[38;5;28;01mfor\u001b[39;00m run \u001b[38;5;129;01min\u001b[39;00m \u001b[38;5;28mrange\u001b[39m(\u001b[38;5;241m20\u001b[39m): \n\u001b[0;32m      5\u001b[0m         studentnumber1_studentnumber2_ES(F23)\n",
      "Cell \u001b[1;32mIn[3], line 3\u001b[0m, in \u001b[0;36mcreate_problem\u001b[1;34m(fid)\u001b[0m\n\u001b[0;32m      1\u001b[0m \u001b[38;5;28;01mdef\u001b[39;00m \u001b[38;5;21mcreate_problem\u001b[39m(fid: \u001b[38;5;28mint\u001b[39m):\n\u001b[0;32m      2\u001b[0m     \u001b[38;5;66;03m# Declaration of problems to be tested.\u001b[39;00m\n\u001b[1;32m----> 3\u001b[0m     problem \u001b[38;5;241m=\u001b[39m get_problem(fid, dimension\u001b[38;5;241m=\u001b[39m\u001b[43mdimension\u001b[49m, instance\u001b[38;5;241m=\u001b[39m\u001b[38;5;241m1\u001b[39m, problem_class\u001b[38;5;241m=\u001b[39mProblemClass\u001b[38;5;241m.\u001b[39mBBOB)\n\u001b[0;32m      5\u001b[0m     \u001b[38;5;66;03m# Create default logger compatible with IOHanalyzer\u001b[39;00m\n\u001b[0;32m      6\u001b[0m     \u001b[38;5;66;03m# `root` indicates where the output files are stored.\u001b[39;00m\n\u001b[0;32m      7\u001b[0m     \u001b[38;5;66;03m# `folder_name` is the name of the folder containing all output. You should compress the folder 'run' and upload it to IOHanalyzer.\u001b[39;00m\n\u001b[0;32m      8\u001b[0m     l \u001b[38;5;241m=\u001b[39m logger\u001b[38;5;241m.\u001b[39mAnalyzer(\n\u001b[0;32m      9\u001b[0m         root\u001b[38;5;241m=\u001b[39m\u001b[38;5;124m\"\u001b[39m\u001b[38;5;124mdata\u001b[39m\u001b[38;5;124m\"\u001b[39m,  \u001b[38;5;66;03m# the working directory in which a folder named `folder_name` (the next argument) will be created to store data\u001b[39;00m\n\u001b[0;32m     10\u001b[0m         folder_name\u001b[38;5;241m=\u001b[39m\u001b[38;5;124m\"\u001b[39m\u001b[38;5;124mrun\u001b[39m\u001b[38;5;124m\"\u001b[39m,  \u001b[38;5;66;03m# the folder name to which the raw performance data will be stored\u001b[39;00m\n\u001b[0;32m     11\u001b[0m         algorithm_name\u001b[38;5;241m=\u001b[39m\u001b[38;5;124m\"\u001b[39m\u001b[38;5;124mevolution strategy\u001b[39m\u001b[38;5;124m\"\u001b[39m,  \u001b[38;5;66;03m# name of your algorithm\u001b[39;00m\n\u001b[0;32m     12\u001b[0m         algorithm_info\u001b[38;5;241m=\u001b[39m\u001b[38;5;124m\"\u001b[39m\u001b[38;5;124mPractical assignment part2 of the EA course\u001b[39m\u001b[38;5;124m\"\u001b[39m,\n\u001b[0;32m     13\u001b[0m     )\n",
      "\u001b[1;31mNameError\u001b[0m: name 'dimension' is not defined"
     ]
    }
   ],
   "source": [
    "if __name__ == \"__main__\":\n",
    "    # this how you run your algorithm with 20 repetitions/independent run\n",
    "    F23, _logger = create_problem(dimension=10, fid=23)\n",
    "    for run in range(20): \n",
    "        s4018907_s4168216_ES(F23, dimension, mutation_rate, crossover_rate, budget)\n",
    "        F23.reset() # it is necessary to reset the problem after each independent run\n",
    "    _logger.close() # after all runs, it is necessary to close the logger to make sure all data are written to the folder\n"
   ]
  }
 ],
 "metadata": {
  "kernelspec": {
   "display_name": "final_tensor_env",
   "language": "python",
   "name": "python3"
  },
  "language_info": {
   "codemirror_mode": {
    "name": "ipython",
    "version": 3
   },
   "file_extension": ".py",
   "mimetype": "text/x-python",
   "name": "python",
   "nbconvert_exporter": "python",
   "pygments_lexer": "ipython3",
   "version": "3.11.10"
  }
 },
 "nbformat": 4,
 "nbformat_minor": 2
}
