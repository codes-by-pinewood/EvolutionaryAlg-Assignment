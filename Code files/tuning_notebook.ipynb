{
 "cells": [
  {
   "cell_type": "code",
   "execution_count": 2,
   "metadata": {
    "cell_id": "d420e73f83fd43b69aef67747bc170a8",
    "deepnote_cell_type": "code",
    "execution_context_id": "df005b02-a3c0-404a-b46a-fb2e52aa37ae",
    "execution_millis": 302,
    "execution_start": 1733388354468,
    "source_hash": "c264d352"
   },
   "outputs": [],
   "source": [
    "from typing import List\n",
    "\n",
    "import numpy as np\n",
    "# you need to install this package `ioh`. Please see documentations here: \n",
    "# https://iohprofiler.github.io/IOHexp/ and https://pypi.org/project/ioh/\n",
    "from ioh import get_problem, logger, ProblemClass\n",
    "# import GA\n",
    "from GA import s4018907_s4168216_GA, create_problem"
   ]
  },
  {
   "cell_type": "code",
   "execution_count": 3,
   "metadata": {
    "cell_id": "35effd6260704864b0a46bbc5237666d",
    "deepnote_cell_type": "code",
    "execution_context_id": "06e56c6e-1c08-47f2-8cf1-d2b1d2ba9f90",
    "execution_millis": 0,
    "execution_start": 1733388354817,
    "source_hash": "f7c33eaa"
   },
   "outputs": [],
   "source": [
    "budget = 20\n",
    "\n",
    "# To make your results reproducible (not required by the assignment), you could set the random seed by\n",
    "# `np.random.seed(some integer, e.g., 42)`\n",
    "\n",
    "# Hyperparameters to tune, e.g.\n",
    "hyperparameter_space = {\n",
    "    \"population_size\": [50, 100, 200],\n",
    "    \"mutation_rate\": [0.01, 0.05, 0.1],\n",
    "    \"crossover_rate\": [0.5, 0.7, 0.9]\n",
    "}\n"
   ]
  },
  {
   "cell_type": "code",
   "execution_count": null,
   "metadata": {
    "cell_id": "f6d2eddfd09b4d87b81a3c38c95c811c",
    "deepnote_cell_type": "code",
    "execution_context_id": "06e56c6e-1c08-47f2-8cf1-d2b1d2ba9f90",
    "execution_millis": 0,
    "execution_start": 1733388354869,
    "source_hash": "3e6c7b29"
   },
   "outputs": [],
   "source": [
    "# Hyperparameter tuning function\n",
    "def tune_hyperparameters() -> List:\n",
    "    # You should decide/engineer the `score` youself, which is the tuning objective\n",
    "    best_score = float('inf')\n",
    "    best_params = None\n",
    "    # create the LABS problem and the data logger\n",
    "    F18, _logger = create_problem(dimension=50, fid=18)\n",
    "    # create the N-Queens problem and the data logger\n",
    "    F23, _logger = create_problem(dimension=49, fid=23)\n",
    "    \n",
    "    for pop_size in hyperparameter_space['population_size']:\n",
    "        for mutation_rate in hyperparameter_space['mutation_rate']:\n",
    "            for crossover_rate in hyperparameter_space['crossover_rate']:\n",
    "                score_f18 = s4018907_s4168216_GA(F18, pop_size, mutation_rate, crossover_rate, budget)\n",
    "                print(score_f18)\n",
    "                F18.reset()\n",
    "                if score_f18 < best_score:\n",
    "                    best_score = score_f18\n",
    "                    best_params = [pop_size, mutation_rate, crossover_rate]\n",
    "                score_f23 = s4018907_s4168216_GA(F23, pop_size, mutation_rate, crossover_rate, budget)\n",
    "                print(score_f23)\n",
    "                F23.reset()\n",
    "                if score_f23 < best_score:\n",
    "                    best_score = score_f23\n",
    "                    best_params = [pop_size, mutation_rate, crossover_rate]\n",
    "    return best_params"
   ]
  },
  {
   "cell_type": "code",
   "execution_count": 6,
   "metadata": {
    "cell_id": "8939498b51ee4996bf55a1af2404736b",
    "deepnote_cell_type": "code",
    "execution_context_id": "df005b02-a3c0-404a-b46a-fb2e52aa37ae",
    "execution_millis": 1331,
    "execution_start": 1733331352282,
    "source_hash": "79e7a195"
   },
   "outputs": [
    {
     "ename": "TypeError",
     "evalue": "s4018907_s4168216_GA() missing 2 required positional arguments: 'problem_F18' and 'problem_F23'",
     "output_type": "error",
     "traceback": [
      "\u001b[1;31m---------------------------------------------------------------------------\u001b[0m",
      "\u001b[1;31mTypeError\u001b[0m                                 Traceback (most recent call last)",
      "Cell \u001b[1;32mIn[6], line 3\u001b[0m\n\u001b[0;32m      1\u001b[0m \u001b[38;5;28;01mif\u001b[39;00m \u001b[38;5;18m__name__\u001b[39m \u001b[38;5;241m==\u001b[39m \u001b[38;5;124m\"\u001b[39m\u001b[38;5;124m__main__\u001b[39m\u001b[38;5;124m\"\u001b[39m:\n\u001b[0;32m      2\u001b[0m     \u001b[38;5;66;03m# Hyperparameter tuning to determine the best parameters for both problems\u001b[39;00m\n\u001b[1;32m----> 3\u001b[0m     population_size, mutation_rate, crossover_rate \u001b[38;5;241m=\u001b[39m \u001b[43mtune_hyperparameters\u001b[49m\u001b[43m(\u001b[49m\u001b[43m)\u001b[49m\n\u001b[0;32m      4\u001b[0m     \u001b[38;5;28mprint\u001b[39m(population_size)\n\u001b[0;32m      5\u001b[0m     \u001b[38;5;28mprint\u001b[39m(mutation_rate)\n",
      "Cell \u001b[1;32mIn[4], line 19\u001b[0m, in \u001b[0;36mtune_hyperparameters\u001b[1;34m()\u001b[0m\n\u001b[0;32m     12\u001b[0m \u001b[38;5;28;01mfor\u001b[39;00m mutation_rate \u001b[38;5;129;01min\u001b[39;00m hyperparameter_space[\u001b[38;5;124m'\u001b[39m\u001b[38;5;124mmutation_rate\u001b[39m\u001b[38;5;124m'\u001b[39m]:\n\u001b[0;32m     13\u001b[0m     \u001b[38;5;28;01mfor\u001b[39;00m crossover_rate \u001b[38;5;129;01min\u001b[39;00m hyperparameter_space[\u001b[38;5;124m'\u001b[39m\u001b[38;5;124mcrossover_rate\u001b[39m\u001b[38;5;124m'\u001b[39m]:\n\u001b[0;32m     14\u001b[0m         \u001b[38;5;66;03m# You should initialize you GA implementation with a hyperparameter setting\u001b[39;00m\n\u001b[0;32m     15\u001b[0m         \u001b[38;5;66;03m# and execute it on both problems F18, and F23\u001b[39;00m\n\u001b[0;32m     16\u001b[0m         \u001b[38;5;66;03m# please decide how many function evaluations you wish to use for running the GA\u001b[39;00m\n\u001b[0;32m     17\u001b[0m         \u001b[38;5;66;03m# on each problem per each hyperparameter setting\u001b[39;00m\n\u001b[0;32m     18\u001b[0m         \u001b[38;5;66;03m#......\u001b[39;00m\n\u001b[1;32m---> 19\u001b[0m         score_f18 \u001b[38;5;241m=\u001b[39m \u001b[43ms4018907_s4168216_GA\u001b[49m\u001b[43m(\u001b[49m\u001b[43mF18\u001b[49m\u001b[43m,\u001b[49m\u001b[43m \u001b[49m\u001b[43mpop_size\u001b[49m\u001b[43m,\u001b[49m\u001b[43m \u001b[49m\u001b[43mmutation_rate\u001b[49m\u001b[43m,\u001b[49m\u001b[43m \u001b[49m\u001b[43mcrossover_rate\u001b[49m\u001b[43m,\u001b[49m\u001b[43m \u001b[49m\u001b[43mbudget\u001b[49m\u001b[43m)\u001b[49m\n\u001b[0;32m     20\u001b[0m         \u001b[38;5;28mprint\u001b[39m(score_f18)\n\u001b[0;32m     21\u001b[0m         F18\u001b[38;5;241m.\u001b[39mreset()\n",
      "\u001b[1;31mTypeError\u001b[0m: s4018907_s4168216_GA() missing 2 required positional arguments: 'problem_F18' and 'problem_F23'"
     ]
    }
   ],
   "source": [
    "if __name__ == \"__main__\":\n",
    "    # Hyperparameter tuning to determine the best parameters for both problems\n",
    "    population_size, mutation_rate, crossover_rate = tune_hyperparameters()\n",
    "    print(population_size)\n",
    "    print(mutation_rate)\n",
    "    print(crossover_rate)"
   ]
  },
  {
   "cell_type": "code",
   "execution_count": null,
   "metadata": {},
   "outputs": [],
   "source": []
  },
  {
   "cell_type": "markdown",
   "metadata": {
    "created_in_deepnote_cell": true,
    "deepnote_cell_type": "markdown"
   },
   "source": [
    "<a style='text-decoration:none;line-height:16px;display:flex;color:#5B5B62;padding:10px;justify-content:end;' href='https://deepnote.com?utm_source=created-in-deepnote-cell&projectId=39a91287-2189-48c9-99b5-0dfcdbf377a7' target=\"_blank\">\n",
    "<img alt='Created in deepnote.com' style='display:inline;max-height:16px;margin:0px;margin-right:7.5px;' src='data:image/svg+xml;base64,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' > </img>\n",
    "Created in <span style='font-weight:600;margin-left:4px;'>Deepnote</span></a>"
   ]
  }
 ],
 "metadata": {
  "deepnote_full_width": true,
  "deepnote_notebook_id": "5fba0646e35f42dba96fac65ca3361b7",
  "deepnote_persisted_session": {
   "createdAt": "2024-11-20T17:26:53.345Z"
  },
  "kernelspec": {
   "display_name": "final_tensor_env",
   "language": "python",
   "name": "python3"
  },
  "language_info": {
   "codemirror_mode": {
    "name": "ipython",
    "version": 3
   },
   "file_extension": ".py",
   "mimetype": "text/x-python",
   "name": "python",
   "nbconvert_exporter": "python",
   "pygments_lexer": "ipython3",
   "version": "3.11.10"
  }
 },
 "nbformat": 4,
 "nbformat_minor": 0
}
