{
    "cells": [
        {
            "cell_type": "code",
            "metadata": {
                "source_hash": "c264d352",
                "execution_start": 1733330496540,
                "execution_millis": 0,
                "execution_context_id": "1bb10ead-a335-4652-ac31-0641ccc8de85",
                "cell_id": "9744712f8eee4f40b5cd9370e5a6e718",
                "deepnote_cell_type": "code"
            },
            "source": "from typing import List\n\nimport numpy as np\n# you need to install this package `ioh`. Please see documentations here: \n# https://iohprofiler.github.io/IOHexp/ and https://pypi.org/project/ioh/\nfrom ioh import get_problem, logger, ProblemClass\n# import GA\nfrom GA import s4018907_s4168216_GA, create_problem",
            "block_group": "c2a4d78598c4432a9e4c6b1371c2ba93",
            "execution_count": 3,
            "outputs": [
                {
                    "output_type": "error",
                    "ename": "ModuleNotFoundError",
                    "evalue": "No module named 'GA'",
                    "traceback": [
                        "\u001b[0;31m---------------------------------------------------------------------------\u001b[0m",
                        "\u001b[0;31mModuleNotFoundError\u001b[0m                       Traceback (most recent call last)",
                        "Cell \u001b[0;32mIn[3], line 8\u001b[0m\n\u001b[1;32m      6\u001b[0m \u001b[38;5;28;01mfrom\u001b[39;00m \u001b[38;5;21;01mioh\u001b[39;00m \u001b[38;5;28;01mimport\u001b[39;00m get_problem, logger, ProblemClass\n\u001b[1;32m      7\u001b[0m \u001b[38;5;66;03m# import GA\u001b[39;00m\n\u001b[0;32m----> 8\u001b[0m \u001b[38;5;28;01mfrom\u001b[39;00m \u001b[38;5;21;01mGA\u001b[39;00m \u001b[38;5;28;01mimport\u001b[39;00m s4018907_s4168216_GA, create_problem\n",
                        "\u001b[0;31mModuleNotFoundError\u001b[0m: No module named 'GA'"
                    ]
                }
            ],
            "outputs_reference": "dbtable:cell_outputs/da0a1a4d-8ecd-4b04-b3c0-6f7d16ac83da",
            "content_dependencies": null
        },
        {
            "cell_type": "code",
            "metadata": {
                "source_hash": "f7c33eaa",
                "execution_start": 1732120212983,
                "execution_millis": 1,
                "execution_context_id": "58cbb053-ab2e-4e44-998b-5b070c969f8c",
                "cell_id": "b231de95a33b4af991799f88cbbd28d5",
                "deepnote_cell_type": "code"
            },
            "source": "budget = 1000000\n\n# To make your results reproducible (not required by the assignment), you could set the random seed by\n# `np.random.seed(some integer, e.g., 42)`\n\n# Hyperparameters to tune, e.g.\nhyperparameter_space = {\n    \"population_size\": [50, 100, 200],\n    \"mutation_rate\": [0.01, 0.05, 0.1],\n    \"crossover_rate\": [0.5, 0.7, 0.9]\n}\n",
            "block_group": "d0a85c9ba2ec4705884f9496705f165b",
            "execution_count": 2,
            "outputs": [],
            "outputs_reference": null,
            "content_dependencies": null
        },
        {
            "cell_type": "code",
            "metadata": {
                "cell_id": "27e8b8db024f45f0a0ef94f4a1997dbc",
                "deepnote_cell_type": "code"
            },
            "source": "# Hyperparameter tuning function\ndef tune_hyperparameters() -> List:\n    # You should decide/engineer the `score` youself, which is the tuning objective\n    best_score = float('inf')\n    best_params = None\n    # create the LABS problem and the data logger\n    F18, _logger = create_problem(dimension=50, fid=18)\n    # create the N-Queens problem and the data logger\n    F23, _logger = create_problem(dimension=49, fid=23)\n    \n    for pop_size in hyperparameter_space['population_size']:\n        for mutation_rate in hyperparameter_space['mutation_rate']:\n            for crossover_rate in hyperparameter_space['crossover_rate']:\n                # You should initialize you GA implementation with a hyperparameter setting\n                # and execute it on both problems F18, and F23\n                # please decide how many function evaluations you wish to use for running the GA\n                # on each problem per each hyperparameter setting\n                #......\n                s4018907_s4168216_GA(pop_size, mutation_rate, crossover_rate, budget, _logger, F18, F23)\n                # pass\n                \n\n    return best_params",
            "block_group": "ed1322f008ce4b27bd71f3d5923ea3b1",
            "execution_count": null,
            "outputs": [],
            "outputs_reference": null,
            "content_dependencies": null
        },
        {
            "cell_type": "code",
            "metadata": {
                "cell_id": "6ec64fe82be04fe099128545470f454f",
                "deepnote_cell_type": "code"
            },
            "source": "if __name__ == \"__main__\":\n    # Hyperparameter tuning to determine the best parameters for both problems\n    population_size, mutation_rate, crossover_rate = tune_hyperparameters()\n    print(population_size)\n    print(mutation_rate)\n    print(crossover_rate)",
            "block_group": "6ec64fe82be04fe099128545470f454f",
            "execution_count": null,
            "outputs": [],
            "outputs_reference": null,
            "content_dependencies": null
        },
        {
            "cell_type": "markdown",
            "source": "<a style='text-decoration:none;line-height:16px;display:flex;color:#5B5B62;padding:10px;justify-content:end;' href='https://deepnote.com?utm_source=created-in-deepnote-cell&projectId=39a91287-2189-48c9-99b5-0dfcdbf377a7' target=\"_blank\">\n<img alt='Created in deepnote.com' style='display:inline;max-height:16px;margin:0px;margin-right:7.5px;' src='data:image/svg+xml;base64,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' > </img>\nCreated in <span style='font-weight:600;margin-left:4px;'>Deepnote</span></a>",
            "metadata": {
                "created_in_deepnote_cell": true,
                "deepnote_cell_type": "markdown"
            }
        }
    ],
    "nbformat": 4,
    "nbformat_minor": 0,
    "metadata": {
        "deepnote_persisted_session": {
            "createdAt": "2024-11-20T17:26:53.345Z"
        },
        "deepnote_full_width": true,
        "deepnote_notebook_id": "d7a28643e668443ebf116e07c528cd8e"
    }
}